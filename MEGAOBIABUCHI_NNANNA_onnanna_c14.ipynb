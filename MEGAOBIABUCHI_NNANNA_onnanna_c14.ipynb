{
 "cells": [
  {
   "cell_type": "code",
   "execution_count": 1,
   "id": "b844b7da",
   "metadata": {},
   "outputs": [],
   "source": [
    "countries =['Africa/Abidjan','Africa/Accra','Africa/Addis_Ababa', 'Africa/Algiers', 'Africa/Asmara','Africa/Asmera',\n",
    "            'Africa/Bamako','Africa/Bangui','Africa/Banjul','Africa/Bissau','Africa/Blantyre','Africa/Brazzaville',\n",
    "            'Africa/Bujumbura','Africa/Cairo', 'Africa/Casablanca','Africa/Ceuta','Africa/Conakry','Africa/Dakar',\n",
    "            'Africa/Dar_es_Salaam', 'Africa/Djibouti','Africa/Douala', 'Africa/El_Aaiun', 'Africa/Freetown',\n",
    "            'Africa/Gaborone', 'Africa/Harare', 'Africa/Johannesburg','Africa/Juba', 'Africa/Kampala', 'Africa/Khartoum',\n",
    "            'Africa/Kigali','Africa/Kinshasa','Africa/Lagos','Africa/Libreville','Africa/Lome', 'Africa/Luanda','America/New_York']"
   ]
  },
  {
   "cell_type": "code",
   "execution_count": 2,
   "id": "0e2c52c6",
   "metadata": {},
   "outputs": [],
   "source": [
    "countryList = []\n",
    "\n",
    "for items in countries:\n",
    "    if '/' in items:\n",
    "        countryParts = items.split('/')\n",
    "        countryList.append(countryParts[1])\n",
    "        #print(countryPart)\n",
    "    else:\n",
    "        countryPart= items"
   ]
  },
  {
   "cell_type": "code",
   "execution_count": 3,
   "id": "227aeada",
   "metadata": {},
   "outputs": [
    {
     "data": {
      "text/plain": [
       "['Abidjan',\n",
       " 'Accra',\n",
       " 'Addis_Ababa',\n",
       " 'Algiers',\n",
       " 'Asmara',\n",
       " 'Asmera',\n",
       " 'Bamako',\n",
       " 'Bangui',\n",
       " 'Banjul',\n",
       " 'Bissau',\n",
       " 'Blantyre',\n",
       " 'Brazzaville',\n",
       " 'Bujumbura',\n",
       " 'Cairo',\n",
       " 'Casablanca',\n",
       " 'Ceuta',\n",
       " 'Conakry',\n",
       " 'Dakar',\n",
       " 'Dar_es_Salaam',\n",
       " 'Djibouti',\n",
       " 'Douala',\n",
       " 'El_Aaiun',\n",
       " 'Freetown',\n",
       " 'Gaborone',\n",
       " 'Harare',\n",
       " 'Johannesburg',\n",
       " 'Juba',\n",
       " 'Kampala',\n",
       " 'Khartoum',\n",
       " 'Kigali',\n",
       " 'Kinshasa',\n",
       " 'Lagos',\n",
       " 'Libreville',\n",
       " 'Lome',\n",
       " 'Luanda',\n",
       " 'New_York']"
      ]
     },
     "execution_count": 3,
     "metadata": {},
     "output_type": "execute_result"
    }
   ],
   "source": [
    "countryList"
   ]
  },
  {
   "cell_type": "code",
   "execution_count": 4,
   "id": "3fd6c658",
   "metadata": {},
   "outputs": [],
   "source": [
    "CountryTimeList =[0,0,10800,3600,10800,10800,0,3600,0,0,7200,3600,7200,7200,0,3600,0,0,10800,10800,3600,0,0,7200,\n",
    "                  7200,7200,10800,10800,10800,7200,3600,3600,3600,0,3600,-18000]"
   ]
  },
  {
   "cell_type": "code",
   "execution_count": 5,
   "id": "fded507f",
   "metadata": {},
   "outputs": [
    {
     "data": {
      "text/plain": [
       "36"
      ]
     },
     "execution_count": 5,
     "metadata": {},
     "output_type": "execute_result"
    }
   ],
   "source": [
    "len(CountryTimeList)"
   ]
  },
  {
   "cell_type": "code",
   "execution_count": 6,
   "id": "ba73b562",
   "metadata": {},
   "outputs": [
    {
     "data": {
      "text/plain": [
       "36"
      ]
     },
     "execution_count": 6,
     "metadata": {},
     "output_type": "execute_result"
    }
   ],
   "source": [
    "len(countryList)"
   ]
  },
  {
   "cell_type": "code",
   "execution_count": 7,
   "id": "912ef8db",
   "metadata": {},
   "outputs": [],
   "source": [
    "#Boot Camp Schedule stored in a container\n",
    "monthList = ['July','July','July','July','July','July','July','July','August','August','August',\n",
    "             'August','August','August','August','August','September','September','September',\n",
    "             'September','September','September','September','September','September','September','September','September']\n",
    "\n",
    "dateList = ['07-Jul','08-Jul','07-Jul','08-Jul','21-Jul','21-Jul','22-Jul','22-Jul','04-Aug',\n",
    "            '04-Aug','05-Aug','05-Aug','18-Aug','18-Aug','19-Aug','19-Aug','01-Sep','01-Sep','02-Sep',\n",
    "            '02-Sep','15-Sep','15-Sep','16-Sep','16-Sep','29-Sep','29-Sep','30-Sep','30-Sep',]\n",
    "\n",
    "timeList = ['6.00 AM','10.00 AM','6.00 AM','10.00 AM','6.00 AM','10.00 AM','6.00 AM','10.00 AM','6.00 AM',\n",
    "            '10.00 AM','6.00 AM','10.00 AM','6.00 AM','10.00 AM','6.00 AM','10.00 AM','6.00 AM','10.00 AM',\n",
    "            '6.00 AM','10.00 AM','6.00 AM','10.00 AM','6.00 AM','10.00 AM','6.00 AM','10.00 AM','6.00 AM','10.00 AM']\n",
    "\n",
    "\n",
    "cohortList = ['Cohort 14','Cohort 15','Cohort 14','Cohort 15','Cohort 14',' Cohort 15','Cohort 14',\n",
    "              'Cohort 15','Cohort 14','Cohort 15','Cohort 14','Cohort 15','Cohort 14','Cohort 15',\n",
    "              'Cohort 14','Cohort 15','Cohort 14','Cohort 15','Cohort 14','Cohort 15','Cohort 14',\n",
    "              'Cohort 15','Cohort 14','Cohort 15','Cohort 14','Cohort 15','Cohort 14','Cohort 15']\n",
    "\n",
    "programList = ['Data Analytics','Data Science/ML', 'Data Science/ML','Data Analytics','Data Analytics',' Data Science/ML',\n",
    "               'Data Science/ML','Data Analytics','Data Analytics','Data Science/ML','Data Science/ML','Data Analytics',\n",
    "               'Data Analytics','Data Science/ML','Data Science/ML','Data Analytics','Data Analytics','Data Science/ML',\n",
    "               'Data Science/ML','Data Analytics','Data Analytics','Data Science/ML','Data Science/ML','Data Analytics',\n",
    "               'Data Analytics','Data Science/ML','Data Science/ML','Data Analytics']\n",
    "\n",
    "topicList = ['Python Variables','Data Cleaning','Python Variables','Data Visualization Project 1','Python Container',\n",
    "            'Data Transformation','Python Container','Data Visualization Project 2','Python Container II',\n",
    "             'Data Transformation II','Python Container II','Data Visualization Project 3','Python Functions',\n",
    "             'Feature Selection','Python Functions','Data Visualization Project 4','Python Functions','Feature Selection II',\n",
    "             'Python Functions II','Data Visualization Project 5','Python Pandas I','Supervised Learning Intro',\n",
    "             'Python Pandas I','Data Visualization Project 6','Python Pandas II','Unsupervised Learning Intro',\n",
    "             'Python Pandas II','Data Visualization Project 7',]"
   ]
  },
  {
   "cell_type": "code",
   "execution_count": 8,
   "id": "7703701e",
   "metadata": {},
   "outputs": [
    {
     "data": {
      "text/plain": [
       "28"
      ]
     },
     "execution_count": 8,
     "metadata": {},
     "output_type": "execute_result"
    }
   ],
   "source": [
    "len(cohortList)\n"
   ]
  },
  {
   "cell_type": "code",
   "execution_count": 9,
   "id": "8823ae57",
   "metadata": {},
   "outputs": [
    {
     "data": {
      "text/plain": [
       "28"
      ]
     },
     "execution_count": 9,
     "metadata": {},
     "output_type": "execute_result"
    }
   ],
   "source": [
    "len(timeList)"
   ]
  },
  {
   "cell_type": "code",
   "execution_count": 10,
   "id": "9587b94e",
   "metadata": {},
   "outputs": [
    {
     "data": {
      "text/plain": [
       "28"
      ]
     },
     "execution_count": 10,
     "metadata": {},
     "output_type": "execute_result"
    }
   ],
   "source": [
    "len(monthList)"
   ]
  },
  {
   "cell_type": "code",
   "execution_count": 11,
   "id": "59728fda",
   "metadata": {},
   "outputs": [
    {
     "data": {
      "text/plain": [
       "28"
      ]
     },
     "execution_count": 11,
     "metadata": {},
     "output_type": "execute_result"
    }
   ],
   "source": [
    "len(programList)"
   ]
  },
  {
   "cell_type": "code",
   "execution_count": 12,
   "id": "cf58fff2",
   "metadata": {},
   "outputs": [
    {
     "data": {
      "text/plain": [
       "28"
      ]
     },
     "execution_count": 12,
     "metadata": {},
     "output_type": "execute_result"
    }
   ],
   "source": [
    "len(topicList)"
   ]
  },
  {
   "cell_type": "code",
   "execution_count": 13,
   "id": "e96aa69b",
   "metadata": {},
   "outputs": [],
   "source": [
    "estOffset = -18000"
   ]
  },
  {
   "cell_type": "code",
   "execution_count": 14,
   "id": "ca704d54",
   "metadata": {},
   "outputs": [
    {
     "name": "stdout",
     "output_type": "stream",
     "text": [
      "July 07-Jul 6.00 AM Cohort 14 Data Analytics Python Variables\n",
      "July 08-Jul 10.00 AM Cohort 15 Data Science/ML Data Cleaning\n",
      "July 07-Jul 6.00 AM Cohort 14 Data Science/ML Python Variables\n",
      "July 08-Jul 10.00 AM Cohort 15 Data Analytics Data Visualization Project 1\n",
      "July 21-Jul 6.00 AM Cohort 14 Data Analytics Python Container\n",
      "July 21-Jul 10.00 AM  Cohort 15  Data Science/ML Data Transformation\n",
      "July 22-Jul 6.00 AM Cohort 14 Data Science/ML Python Container\n",
      "July 22-Jul 10.00 AM Cohort 15 Data Analytics Data Visualization Project 2\n",
      "August 04-Aug 6.00 AM Cohort 14 Data Analytics Python Container II\n",
      "August 04-Aug 10.00 AM Cohort 15 Data Science/ML Data Transformation II\n",
      "August 05-Aug 6.00 AM Cohort 14 Data Science/ML Python Container II\n",
      "August 05-Aug 10.00 AM Cohort 15 Data Analytics Data Visualization Project 3\n",
      "August 18-Aug 6.00 AM Cohort 14 Data Analytics Python Functions\n",
      "August 18-Aug 10.00 AM Cohort 15 Data Science/ML Feature Selection\n",
      "August 19-Aug 6.00 AM Cohort 14 Data Science/ML Python Functions\n",
      "August 19-Aug 10.00 AM Cohort 15 Data Analytics Data Visualization Project 4\n",
      "September 01-Sep 6.00 AM Cohort 14 Data Analytics Python Functions\n",
      "September 01-Sep 10.00 AM Cohort 15 Data Science/ML Feature Selection II\n",
      "September 02-Sep 6.00 AM Cohort 14 Data Science/ML Python Functions II\n",
      "September 02-Sep 10.00 AM Cohort 15 Data Analytics Data Visualization Project 5\n",
      "September 15-Sep 6.00 AM Cohort 14 Data Analytics Python Pandas I\n",
      "September 15-Sep 10.00 AM Cohort 15 Data Science/ML Supervised Learning Intro\n",
      "September 16-Sep 6.00 AM Cohort 14 Data Science/ML Python Pandas I\n",
      "September 16-Sep 10.00 AM Cohort 15 Data Analytics Data Visualization Project 6\n",
      "September 29-Sep 6.00 AM Cohort 14 Data Analytics Python Pandas II\n",
      "September 29-Sep 10.00 AM Cohort 15 Data Science/ML Unsupervised Learning Intro\n",
      "September 30-Sep 6.00 AM Cohort 14 Data Science/ML Python Pandas II\n",
      "September 30-Sep 10.00 AM Cohort 15 Data Analytics Data Visualization Project 7\n"
     ]
    }
   ],
   "source": [
    "for m, dte,t,cohort,prog, topic in zip(monthList,dateList,timeList,cohortList,programList,topicList):\n",
    "    print(m, dte,t,cohort,prog, topic)"
   ]
  },
  {
   "cell_type": "code",
   "execution_count": 15,
   "id": "7a11d0e2",
   "metadata": {},
   "outputs": [
    {
     "name": "stdout",
     "output_type": "stream",
     "text": [
      "specify monthjuly\n",
      "specify date - format XX-Mon-7-July\n",
      "specify time- format xx.xx AM-6:00AM\n",
      "specify cohort - format cohort xx-C14\n",
      "specify program. Format Data Analytics, Data Science/ML-Da\n"
     ]
    }
   ],
   "source": [
    "userMonth = input('specify month')\n",
    "userDate = input('specify date - format XX-Mon-')\n",
    "userTime = input('specify time- format xx.xx AM-')\n",
    "userCohort = input('specify cohort - format cohort xx-')\n",
    "userProgram = input('specify program. Format Data Analytics, Data Science/ML-')"
   ]
  },
  {
   "cell_type": "code",
   "execution_count": 16,
   "id": "76b5b34a",
   "metadata": {},
   "outputs": [
    {
     "name": "stdout",
     "output_type": "stream",
     "text": [
      "july 7-July 6:00AM C14 Da\n"
     ]
    }
   ],
   "source": [
    "print(userMonth, userDate,userTime,userCohort,userProgram)"
   ]
  },
  {
   "cell_type": "code",
   "execution_count": 17,
   "id": "66e530e4",
   "metadata": {},
   "outputs": [
    {
     "name": "stdout",
     "output_type": "stream",
     "text": [
      "Bootcamp in in your country is 16.0PM \n"
     ]
    }
   ],
   "source": [
    "userTime=10\n",
    "\n",
    "targetUTC=3600\n",
    "\n",
    "targetTimeZone= userTime -(estOffset/60/60)+(targetUTC/60/60)\n",
    "targetTimeZone\n",
    "\n",
    "if targetTimeZone >=12:\n",
    "    print(f'Bootcamp in in your country is {targetTimeZone}PM ')\n",
    "elif targetTimeZone <12: \n",
    "    print(f'Bootcamp in in your country is {targetTimeZone}AM ')\n",
    "    \n",
    "    \n"
   ]
  },
  {
   "cell_type": "code",
   "execution_count": null,
   "id": "70d5a795",
   "metadata": {},
   "outputs": [],
   "source": []
  },
  {
   "cell_type": "code",
   "execution_count": null,
   "id": "862fec8a",
   "metadata": {},
   "outputs": [],
   "source": []
  },
  {
   "cell_type": "code",
   "execution_count": null,
   "id": "40bdb8dd",
   "metadata": {},
   "outputs": [],
   "source": []
  },
  {
   "cell_type": "code",
   "execution_count": 33,
   "id": "4ea85ebc",
   "metadata": {},
   "outputs": [
    {
     "name": "stdout",
     "output_type": "stream",
     "text": [
      " Enter the BootCamp time-xx: 6\n",
      " Enter the host country Name: New_YorK\n",
      "Enter your Country Name: Lagos\n",
      "you have entered a value that is not a valid time\n"
     ]
    },
    {
     "ename": "UnboundLocalError",
     "evalue": "local variable 'targetTimeZone' referenced before assignment",
     "output_type": "error",
     "traceback": [
      "\u001b[1;31m---------------------------------------------------------------------------\u001b[0m",
      "\u001b[1;31mUnboundLocalError\u001b[0m                         Traceback (most recent call last)",
      "\u001b[1;32mC:\\Users\\OBIABU~1\\AppData\\Local\\Temp/ipykernel_8508/425896091.py\u001b[0m in \u001b[0;36m<module>\u001b[1;34m\u001b[0m\n\u001b[0;32m     22\u001b[0m     \u001b[1;32mreturn\u001b[0m    \u001b[0mtargetTimeZone\u001b[0m\u001b[1;33m\u001b[0m\u001b[1;33m\u001b[0m\u001b[0m\n\u001b[0;32m     23\u001b[0m \u001b[1;33m\u001b[0m\u001b[0m\n\u001b[1;32m---> 24\u001b[1;33m \u001b[0mtargetTimeZone\u001b[0m\u001b[1;33m=\u001b[0m\u001b[0mtimeZoneConverter\u001b[0m\u001b[1;33m(\u001b[0m\u001b[0mfloat\u001b[0m\u001b[1;33m(\u001b[0m\u001b[0mbotCampUserTime\u001b[0m\u001b[1;33m)\u001b[0m\u001b[1;33m,\u001b[0m \u001b[0mestCountry\u001b[0m\u001b[1;33m,\u001b[0m \u001b[0mtargtCountry\u001b[0m\u001b[1;33m)\u001b[0m\u001b[1;33m\u001b[0m\u001b[1;33m\u001b[0m\u001b[0m\n\u001b[0m\u001b[0;32m     25\u001b[0m \u001b[0mtargetTimeZone\u001b[0m\u001b[1;33m\u001b[0m\u001b[1;33m\u001b[0m\u001b[0m\n\u001b[0;32m     26\u001b[0m \u001b[1;33m\u001b[0m\u001b[0m\n",
      "\u001b[1;32mC:\\Users\\OBIABU~1\\AppData\\Local\\Temp/ipykernel_8508/425896091.py\u001b[0m in \u001b[0;36mtimeZoneConverter\u001b[1;34m(botCampUserTime, estCountry, targtCountry)\u001b[0m\n\u001b[0;32m     20\u001b[0m \u001b[1;33m\u001b[0m\u001b[0m\n\u001b[0;32m     21\u001b[0m         \u001b[0mtargetTimeZone\u001b[0m\u001b[1;33m=\u001b[0m\u001b[0mfloat\u001b[0m\u001b[1;33m(\u001b[0m\u001b[0mbotCampUserTime\u001b[0m\u001b[1;33m)\u001b[0m \u001b[1;33m-\u001b[0m\u001b[1;33m(\u001b[0m\u001b[0mestOffset\u001b[0m\u001b[1;33m/\u001b[0m\u001b[1;36m60\u001b[0m\u001b[1;33m/\u001b[0m\u001b[1;36m60\u001b[0m\u001b[1;33m)\u001b[0m\u001b[1;33m+\u001b[0m\u001b[1;33m(\u001b[0m\u001b[0mtargetUTC\u001b[0m\u001b[1;33m/\u001b[0m\u001b[1;36m60\u001b[0m\u001b[1;33m/\u001b[0m\u001b[1;36m60\u001b[0m\u001b[1;33m)\u001b[0m\u001b[1;33m\u001b[0m\u001b[1;33m\u001b[0m\u001b[0m\n\u001b[1;32m---> 22\u001b[1;33m     \u001b[1;32mreturn\u001b[0m    \u001b[0mtargetTimeZone\u001b[0m\u001b[1;33m\u001b[0m\u001b[1;33m\u001b[0m\u001b[0m\n\u001b[0m\u001b[0;32m     23\u001b[0m \u001b[1;33m\u001b[0m\u001b[0m\n\u001b[0;32m     24\u001b[0m \u001b[0mtargetTimeZone\u001b[0m\u001b[1;33m=\u001b[0m\u001b[0mtimeZoneConverter\u001b[0m\u001b[1;33m(\u001b[0m\u001b[0mfloat\u001b[0m\u001b[1;33m(\u001b[0m\u001b[0mbotCampUserTime\u001b[0m\u001b[1;33m)\u001b[0m\u001b[1;33m,\u001b[0m \u001b[0mestCountry\u001b[0m\u001b[1;33m,\u001b[0m \u001b[0mtargtCountry\u001b[0m\u001b[1;33m)\u001b[0m\u001b[1;33m\u001b[0m\u001b[1;33m\u001b[0m\u001b[0m\n",
      "\u001b[1;31mUnboundLocalError\u001b[0m: local variable 'targetTimeZone' referenced before assignment"
     ]
    }
   ],
   "source": [
    "countryTimeZonDict = {key:value for (key,value) in zip(countryList,CountryTimeList)}\n",
    "\n",
    "botCampUserTime = input(' Enter the BootCamp time-xx: ')\n",
    "estCountry= input(' Enter the host country Name: ')\n",
    "targtCountry = input('Enter your Country Name: ')\n",
    "if botCampUserTime is not float:\n",
    "     print('you have entered a value that is not a valid time')\n",
    "if targtCountry  not in list(countryTimeZonDict.keys()) and estCountry not in  list(countryTimeZonDict.keys()):\n",
    "        print('you have entered a value that is not a valid name of a country')\n",
    "        pass\n",
    "#botCampUserTime = input(' Enter the BootCamp time-xx: ')\n",
    "#estCountry= input(' Enter the host country Name: ')\n",
    "#targtCountry = input('Enter your Country Name: ')\n",
    "\n",
    "def timeZoneConverter(botCampUserTime, estCountry, targtCountry):\n",
    "     \n",
    "    if targtCountry in list(countryTimeZonDict.keys()) and estCountry in list(countryTimeZonDict.keys()):\n",
    "        targetUTC= float(countryTimeZonDict[targtCountry])\n",
    "        estOffset= float(countryTimeZonDict[estCountry])\n",
    "        \n",
    "        targetTimeZone=float(botCampUserTime) -(estOffset/60/60)+(targetUTC/60/60)\n",
    "    return    targetTimeZone\n",
    "\n",
    "targetTimeZone=timeZoneConverter(float(botCampUserTime), estCountry, targtCountry)\n",
    "targetTimeZone\n",
    "    \n",
    "    \n",
    "\n",
    "     \n"
   ]
  },
  {
   "cell_type": "code",
   "execution_count": 29,
   "id": "876606e1",
   "metadata": {},
   "outputs": [
    {
     "name": "stdout",
     "output_type": "stream",
     "text": [
      "16.0\n"
     ]
    }
   ],
   "source": [
    "print(targetTimeZone)"
   ]
  },
  {
   "cell_type": "code",
   "execution_count": 30,
   "id": "2f180352",
   "metadata": {},
   "outputs": [
    {
     "data": {
      "text/plain": [
       "16.0"
      ]
     },
     "execution_count": 30,
     "metadata": {},
     "output_type": "execute_result"
    }
   ],
   "source": [
    "targetTimeZone"
   ]
  },
  {
   "cell_type": "code",
   "execution_count": 31,
   "id": "fa295fff",
   "metadata": {},
   "outputs": [
    {
     "name": "stdout",
     "output_type": "stream",
     "text": [
      "The Bootcamp Time of 10.0AM in New_York  is 16.0 PM in your country area Lagos \n"
     ]
    }
   ],
   "source": [
    "targetTimeZone\n",
    "if targetTimeZone >=12:\n",
    "    print(f'The Bootcamp Time of {botCampUserTime}AM in {estCountry}  is {targetTimeZone} PM in your country area {targtCountry} ')\n",
    "elif targetTimeZone <12: \n",
    "    print(f'The Bootcamp Time of {botCampUserTime}AM in {estCountry}  is {targetTimeZone}AM in your country area {targtCountry} ')\n",
    "\n"
   ]
  },
  {
   "cell_type": "code",
   "execution_count": 22,
   "id": "1aca5c1d",
   "metadata": {},
   "outputs": [
    {
     "name": "stdout",
     "output_type": "stream",
     "text": [
      "Enter the year your were born 1989\n",
      "Enter this year 2022\n",
      "You are 33years presently\n"
     ]
    }
   ],
   "source": [
    "def ageCompute(presentYear, birthYear):\n",
    "    Age=presentYear -birthYear\n",
    "    return Age\n",
    "\n",
    "birthYear= input('Enter the year your were born ')\n",
    "presentYear =input('Enter this year ')\n",
    "\n",
    "ageToday =ageCompute(int(presentYear), int(birthYear))\n",
    "print(f'You are {ageToday}years presently')"
   ]
  },
  {
   "cell_type": "code",
   "execution_count": 23,
   "id": "3f43139a",
   "metadata": {},
   "outputs": [
    {
     "data": {
      "text/plain": [
       "{'Abidjan': 0,\n",
       " 'Accra': 0,\n",
       " 'Addis_Ababa': 10800,\n",
       " 'Algiers': 3600,\n",
       " 'Asmara': 10800,\n",
       " 'Asmera': 10800,\n",
       " 'Bamako': 0,\n",
       " 'Bangui': 3600,\n",
       " 'Banjul': 0,\n",
       " 'Bissau': 0,\n",
       " 'Blantyre': 7200,\n",
       " 'Brazzaville': 3600,\n",
       " 'Bujumbura': 7200,\n",
       " 'Cairo': 7200,\n",
       " 'Casablanca': 0,\n",
       " 'Ceuta': 3600,\n",
       " 'Conakry': 0,\n",
       " 'Dakar': 0,\n",
       " 'Dar_es_Salaam': 10800,\n",
       " 'Djibouti': 10800,\n",
       " 'Douala': 3600,\n",
       " 'El_Aaiun': 0,\n",
       " 'Freetown': 0,\n",
       " 'Gaborone': 7200,\n",
       " 'Harare': 7200,\n",
       " 'Johannesburg': 7200,\n",
       " 'Juba': 10800,\n",
       " 'Kampala': 10800,\n",
       " 'Khartoum': 10800,\n",
       " 'Kigali': 7200,\n",
       " 'Kinshasa': 3600,\n",
       " 'Lagos': 3600,\n",
       " 'Libreville': 3600,\n",
       " 'Lome': 0,\n",
       " 'Luanda': 3600,\n",
       " 'New_York': -18000}"
      ]
     },
     "execution_count": 23,
     "metadata": {},
     "output_type": "execute_result"
    }
   ],
   "source": [
    "countryTimeZonDict = {key:value for (key,value) in zip(countryList,CountryTimeList)}\n",
    "countryTimeZonDict"
   ]
  },
  {
   "cell_type": "code",
   "execution_count": 24,
   "id": "45a4e56c",
   "metadata": {},
   "outputs": [
    {
     "name": "stdout",
     "output_type": "stream",
     "text": [
      "0.0\n",
      "0.0\n",
      "10800.0\n",
      "3600.0\n",
      "10800.0\n",
      "10800.0\n",
      "0.0\n",
      "3600.0\n",
      "0.0\n",
      "0.0\n",
      "7200.0\n",
      "3600.0\n",
      "7200.0\n",
      "7200.0\n",
      "0.0\n",
      "3600.0\n",
      "0.0\n",
      "0.0\n",
      "10800.0\n",
      "10800.0\n",
      "3600.0\n",
      "0.0\n",
      "0.0\n",
      "7200.0\n",
      "7200.0\n",
      "7200.0\n",
      "10800.0\n",
      "10800.0\n",
      "10800.0\n",
      "7200.0\n",
      "3600.0\n",
      "3600.0\n",
      "3600.0\n",
      "0.0\n",
      "3600.0\n",
      "-18000.0\n"
     ]
    }
   ],
   "source": [
    "for estCountry in list(countryTimeZonDict.keys()):\n",
    "    estOffset= float(countryTimeZonDict[estCountry])\n",
    "    print( estOffset)"
   ]
  },
  {
   "cell_type": "code",
   "execution_count": 25,
   "id": "fad5154d",
   "metadata": {},
   "outputs": [
    {
     "name": "stdout",
     "output_type": "stream",
     "text": [
      "0.0\n",
      "0.0\n",
      "10800.0\n",
      "3600.0\n",
      "10800.0\n",
      "10800.0\n",
      "0.0\n",
      "3600.0\n",
      "0.0\n",
      "0.0\n",
      "7200.0\n",
      "3600.0\n",
      "7200.0\n",
      "7200.0\n",
      "0.0\n",
      "3600.0\n",
      "0.0\n",
      "0.0\n",
      "10800.0\n",
      "10800.0\n",
      "3600.0\n",
      "0.0\n",
      "0.0\n",
      "7200.0\n",
      "7200.0\n",
      "7200.0\n",
      "10800.0\n",
      "10800.0\n",
      "10800.0\n",
      "7200.0\n",
      "3600.0\n",
      "3600.0\n",
      "3600.0\n",
      "0.0\n",
      "3600.0\n",
      "-18000.0\n"
     ]
    }
   ],
   "source": [
    "for targtCountry in list(countryTimeZonDict.keys()):\n",
    "    targetUTC= float(countryTimeZonDict[targtCountry])\n",
    "    print(targetUTC)"
   ]
  },
  {
   "cell_type": "code",
   "execution_count": null,
   "id": "41a3da88",
   "metadata": {},
   "outputs": [],
   "source": []
  },
  {
   "cell_type": "code",
   "execution_count": null,
   "id": "d41b11ea",
   "metadata": {},
   "outputs": [],
   "source": []
  },
  {
   "cell_type": "code",
   "execution_count": null,
   "id": "50d5296e",
   "metadata": {},
   "outputs": [],
   "source": []
  },
  {
   "cell_type": "code",
   "execution_count": null,
   "id": "872a9233",
   "metadata": {},
   "outputs": [],
   "source": []
  },
  {
   "cell_type": "code",
   "execution_count": null,
   "id": "95068a46",
   "metadata": {},
   "outputs": [],
   "source": []
  },
  {
   "cell_type": "code",
   "execution_count": null,
   "id": "83b3634e",
   "metadata": {},
   "outputs": [],
   "source": []
  },
  {
   "cell_type": "code",
   "execution_count": null,
   "id": "6f90b65a",
   "metadata": {},
   "outputs": [],
   "source": []
  }
 ],
 "metadata": {
  "kernelspec": {
   "display_name": "Python 3 (ipykernel)",
   "language": "python",
   "name": "python3"
  },
  "language_info": {
   "codemirror_mode": {
    "name": "ipython",
    "version": 3
   },
   "file_extension": ".py",
   "mimetype": "text/x-python",
   "name": "python",
   "nbconvert_exporter": "python",
   "pygments_lexer": "ipython3",
   "version": "3.9.7"
  }
 },
 "nbformat": 4,
 "nbformat_minor": 5
}
